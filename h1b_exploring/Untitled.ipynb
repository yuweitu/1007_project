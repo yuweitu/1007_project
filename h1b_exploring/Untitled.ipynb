{
 "cells": [
  {
   "cell_type": "code",
   "execution_count": 1,
   "metadata": {
    "collapsed": false
   },
   "outputs": [],
   "source": [
    "import numpy as np\n",
    "import pandas as pd\n",
    "import matplotlib.pyplot as plt\n",
    "%matplotlib inline"
   ]
  },
  {
   "cell_type": "code",
   "execution_count": 2,
   "metadata": {
    "collapsed": true
   },
   "outputs": [],
   "source": [
    "data = {}\n",
    "for year in range(2010,2013):\n",
    "    data[year]= pd.read_csv('DataBase/H-1B_FY'+str(year)+'_clean.csv',encoding = 'iso-8859-1')"
   ]
  },
  {
   "cell_type": "code",
   "execution_count": 3,
   "metadata": {
    "collapsed": false
   },
   "outputs": [],
   "source": [
    "merged_data = pd.concat([data[year] for year in range(2010,2013)], ignore_index= True)"
   ]
  },
  {
   "cell_type": "code",
   "execution_count": 41,
   "metadata": {
    "collapsed": true
   },
   "outputs": [],
   "source": [
    "class industry_level:\n",
    "    \n",
    "    def __init__(self, dataset):\n",
    "        self.dataset = dataset\n",
    "        self.newdf = industry_level.industry(self, dataset)\n",
    "\n",
    "    def industry(self, dataset):\n",
    "    # calculate required statistics\n",
    "        application_pool = (dataset.groupby(\"descrpt\").count())[\"STATUS_APPROVE\"]\n",
    "        approved_case = (dataset.groupby(\"descrpt\").sum())[\"STATUS_APPROVE\"]\n",
    "        approval_rate = (dataset.groupby(\"descrpt\").mean())[\"STATUS_APPROVE\"]\n",
    "        average_wage = (dataset.groupby(\"descrpt\").mean())[\"PREVAILING_WAGE\"]\n",
    "    \n",
    "    # create a new DataFrame and rename indexes\n",
    "        industry_data = pd.concat([application_pool, approved_case, approval_rate,average_wage], axis =1)\n",
    "        industry_data.columns.values[0] = \"application_pool\"\n",
    "        industry_data.columns.values[1] = \"approved_case\"\n",
    "        industry_data.columns.values[2] = \"approval_rate\"\n",
    "        industry_data.columns.values[3] = \"average_wage\"\n",
    "    \n",
    "        return industry_data\n",
    "\n",
    "    def industry_application_pool(industry_level, soc_name):\n",
    "        return industry_level.newdf.ix[soc_name, \"application_pool\"]\n",
    "\n",
    "    def industry_approved_case(self, inductry_level, soc_name):\n",
    "        return industry_level.newdf.ix[soc_name, \"approved_case\"]\n",
    "    \n",
    "    def industry_approval_rate(self, inductry_level, soc_name):\n",
    "        return industry_level.newdf.ix[soc_name, \"approval_rate\"]\n",
    "    \n",
    "    def industry_average_wage(self, inductry_level, soc_name):\n",
    "        return industry_level.newdf.ix[soc_name, \"average_wage\"]\n",
    "    \n",
    "    def occupation_rank(inductry_data, n, indicator): \n",
    "        occupation_rank = industry_data.newdf.sort_values(by = indicator, ascending = False).ix[:n,indicator]\n",
    "        return occupation_rank"
   ]
  },
  {
   "cell_type": "code",
   "execution_count": 42,
   "metadata": {
    "collapsed": true
   },
   "outputs": [],
   "source": [
    "industry_data = industry_level(merged_data)"
   ]
  },
  {
   "cell_type": "code",
   "execution_count": 43,
   "metadata": {
    "collapsed": false
   },
   "outputs": [
    {
     "data": {
      "text/html": [
       "<div>\n",
       "<table border=\"1\" class=\"dataframe\">\n",
       "  <thead>\n",
       "    <tr style=\"text-align: right;\">\n",
       "      <th></th>\n",
       "      <th>application_pool</th>\n",
       "      <th>approved_case</th>\n",
       "      <th>approval_rate</th>\n",
       "      <th>average_wage</th>\n",
       "    </tr>\n",
       "    <tr>\n",
       "      <th>descrpt</th>\n",
       "      <th></th>\n",
       "      <th></th>\n",
       "      <th></th>\n",
       "      <th></th>\n",
       "    </tr>\n",
       "  </thead>\n",
       "  <tbody>\n",
       "    <tr>\n",
       "      <th>Architecture and Engineering Occupations</th>\n",
       "      <td>36339</td>\n",
       "      <td>31392</td>\n",
       "      <td>0.863865</td>\n",
       "      <td>72403.290538</td>\n",
       "    </tr>\n",
       "    <tr>\n",
       "      <th>Arts, Design, Entertainment, Sports, and Media Occupations</th>\n",
       "      <td>8525</td>\n",
       "      <td>7003</td>\n",
       "      <td>0.821466</td>\n",
       "      <td>51617.488719</td>\n",
       "    </tr>\n",
       "    <tr>\n",
       "      <th>Building and Grounds Cleaning and Maintenance Occupations</th>\n",
       "      <td>16</td>\n",
       "      <td>12</td>\n",
       "      <td>0.750000</td>\n",
       "      <td>40234.262500</td>\n",
       "    </tr>\n",
       "    <tr>\n",
       "      <th>Business and Financial Operations Occupations</th>\n",
       "      <td>41400</td>\n",
       "      <td>35706</td>\n",
       "      <td>0.862464</td>\n",
       "      <td>64112.306987</td>\n",
       "    </tr>\n",
       "    <tr>\n",
       "      <th>Community and Social Service Occupations</th>\n",
       "      <td>1434</td>\n",
       "      <td>1140</td>\n",
       "      <td>0.794979</td>\n",
       "      <td>37566.160070</td>\n",
       "    </tr>\n",
       "    <tr>\n",
       "      <th>Computer and Mathematical Occupations</th>\n",
       "      <td>805323</td>\n",
       "      <td>672666</td>\n",
       "      <td>0.835275</td>\n",
       "      <td>74707.897578</td>\n",
       "    </tr>\n",
       "    <tr>\n",
       "      <th>Construction and Extraction Occupations</th>\n",
       "      <td>43</td>\n",
       "      <td>27</td>\n",
       "      <td>0.627907</td>\n",
       "      <td>49453.172093</td>\n",
       "    </tr>\n",
       "    <tr>\n",
       "      <th>Education, Training, and Library Occupations</th>\n",
       "      <td>16021</td>\n",
       "      <td>13727</td>\n",
       "      <td>0.856813</td>\n",
       "      <td>52194.514080</td>\n",
       "    </tr>\n",
       "    <tr>\n",
       "      <th>Farming, Fishing, and Forestry Occupations</th>\n",
       "      <td>181</td>\n",
       "      <td>155</td>\n",
       "      <td>0.856354</td>\n",
       "      <td>34425.876298</td>\n",
       "    </tr>\n",
       "    <tr>\n",
       "      <th>Food Preparation and Serving Related Occupations</th>\n",
       "      <td>196</td>\n",
       "      <td>146</td>\n",
       "      <td>0.744898</td>\n",
       "      <td>46951.715306</td>\n",
       "    </tr>\n",
       "    <tr>\n",
       "      <th>Healthcare Practitioners and Technical Occupations</th>\n",
       "      <td>17393</td>\n",
       "      <td>14741</td>\n",
       "      <td>0.847525</td>\n",
       "      <td>101800.912575</td>\n",
       "    </tr>\n",
       "    <tr>\n",
       "      <th>Healthcare Support Occupations</th>\n",
       "      <td>60</td>\n",
       "      <td>45</td>\n",
       "      <td>0.750000</td>\n",
       "      <td>40299.773333</td>\n",
       "    </tr>\n",
       "    <tr>\n",
       "      <th>Installation, Maintenance, and Repair Occupations</th>\n",
       "      <td>72</td>\n",
       "      <td>45</td>\n",
       "      <td>0.625000</td>\n",
       "      <td>49838.313889</td>\n",
       "    </tr>\n",
       "    <tr>\n",
       "      <th>Legal Occupations</th>\n",
       "      <td>1630</td>\n",
       "      <td>1317</td>\n",
       "      <td>0.807975</td>\n",
       "      <td>94972.706012</td>\n",
       "    </tr>\n",
       "    <tr>\n",
       "      <th>Life, Physical, and Social Science Occupations</th>\n",
       "      <td>23892</td>\n",
       "      <td>20565</td>\n",
       "      <td>0.860748</td>\n",
       "      <td>54039.159584</td>\n",
       "    </tr>\n",
       "    <tr>\n",
       "      <th>Management Occupations</th>\n",
       "      <td>2589</td>\n",
       "      <td>2004</td>\n",
       "      <td>0.774044</td>\n",
       "      <td>124166.221344</td>\n",
       "    </tr>\n",
       "    <tr>\n",
       "      <th>Office and Administrative Support Occupations</th>\n",
       "      <td>532</td>\n",
       "      <td>386</td>\n",
       "      <td>0.725564</td>\n",
       "      <td>36828.187256</td>\n",
       "    </tr>\n",
       "    <tr>\n",
       "      <th>Personal Care and Service Occupations</th>\n",
       "      <td>213</td>\n",
       "      <td>163</td>\n",
       "      <td>0.765258</td>\n",
       "      <td>28656.407512</td>\n",
       "    </tr>\n",
       "    <tr>\n",
       "      <th>Production Occupations</th>\n",
       "      <td>157</td>\n",
       "      <td>114</td>\n",
       "      <td>0.726115</td>\n",
       "      <td>44909.509554</td>\n",
       "    </tr>\n",
       "    <tr>\n",
       "      <th>Protective Service Occupations</th>\n",
       "      <td>4</td>\n",
       "      <td>2</td>\n",
       "      <td>0.500000</td>\n",
       "      <td>48422.750000</td>\n",
       "    </tr>\n",
       "    <tr>\n",
       "      <th>Sales and Related Occupations</th>\n",
       "      <td>2544</td>\n",
       "      <td>2144</td>\n",
       "      <td>0.842767</td>\n",
       "      <td>78473.718117</td>\n",
       "    </tr>\n",
       "    <tr>\n",
       "      <th>Transportation and Material Moving Occupations</th>\n",
       "      <td>84</td>\n",
       "      <td>67</td>\n",
       "      <td>0.797619</td>\n",
       "      <td>50473.465952</td>\n",
       "    </tr>\n",
       "  </tbody>\n",
       "</table>\n",
       "</div>"
      ],
      "text/plain": [
       "                                                    application_pool  \\\n",
       "descrpt                                                                \n",
       "Architecture and Engineering Occupations                       36339   \n",
       "Arts, Design, Entertainment, Sports, and Media ...              8525   \n",
       "Building and Grounds Cleaning and Maintenance O...                16   \n",
       "Business and Financial Operations Occupations                  41400   \n",
       "Community and Social Service Occupations                        1434   \n",
       "Computer and Mathematical Occupations                         805323   \n",
       "Construction and Extraction Occupations                           43   \n",
       "Education, Training, and Library Occupations                   16021   \n",
       "Farming, Fishing, and Forestry Occupations                       181   \n",
       "Food Preparation and Serving Related Occupations                 196   \n",
       "Healthcare Practitioners and Technical Occupations             17393   \n",
       "Healthcare Support Occupations                                    60   \n",
       "Installation, Maintenance, and Repair Occupations                 72   \n",
       "Legal Occupations                                               1630   \n",
       "Life, Physical, and Social Science Occupations                 23892   \n",
       "Management Occupations                                          2589   \n",
       "Office and Administrative Support Occupations                    532   \n",
       "Personal Care and Service Occupations                            213   \n",
       "Production Occupations                                           157   \n",
       "Protective Service Occupations                                     4   \n",
       "Sales and Related Occupations                                   2544   \n",
       "Transportation and Material Moving Occupations                    84   \n",
       "\n",
       "                                                    approved_case  \\\n",
       "descrpt                                                             \n",
       "Architecture and Engineering Occupations                    31392   \n",
       "Arts, Design, Entertainment, Sports, and Media ...           7003   \n",
       "Building and Grounds Cleaning and Maintenance O...             12   \n",
       "Business and Financial Operations Occupations               35706   \n",
       "Community and Social Service Occupations                     1140   \n",
       "Computer and Mathematical Occupations                      672666   \n",
       "Construction and Extraction Occupations                        27   \n",
       "Education, Training, and Library Occupations                13727   \n",
       "Farming, Fishing, and Forestry Occupations                    155   \n",
       "Food Preparation and Serving Related Occupations              146   \n",
       "Healthcare Practitioners and Technical Occupations          14741   \n",
       "Healthcare Support Occupations                                 45   \n",
       "Installation, Maintenance, and Repair Occupations              45   \n",
       "Legal Occupations                                            1317   \n",
       "Life, Physical, and Social Science Occupations              20565   \n",
       "Management Occupations                                       2004   \n",
       "Office and Administrative Support Occupations                 386   \n",
       "Personal Care and Service Occupations                         163   \n",
       "Production Occupations                                        114   \n",
       "Protective Service Occupations                                  2   \n",
       "Sales and Related Occupations                                2144   \n",
       "Transportation and Material Moving Occupations                 67   \n",
       "\n",
       "                                                    approval_rate  \\\n",
       "descrpt                                                             \n",
       "Architecture and Engineering Occupations                 0.863865   \n",
       "Arts, Design, Entertainment, Sports, and Media ...       0.821466   \n",
       "Building and Grounds Cleaning and Maintenance O...       0.750000   \n",
       "Business and Financial Operations Occupations            0.862464   \n",
       "Community and Social Service Occupations                 0.794979   \n",
       "Computer and Mathematical Occupations                    0.835275   \n",
       "Construction and Extraction Occupations                  0.627907   \n",
       "Education, Training, and Library Occupations             0.856813   \n",
       "Farming, Fishing, and Forestry Occupations               0.856354   \n",
       "Food Preparation and Serving Related Occupations         0.744898   \n",
       "Healthcare Practitioners and Technical Occupations       0.847525   \n",
       "Healthcare Support Occupations                           0.750000   \n",
       "Installation, Maintenance, and Repair Occupations        0.625000   \n",
       "Legal Occupations                                        0.807975   \n",
       "Life, Physical, and Social Science Occupations           0.860748   \n",
       "Management Occupations                                   0.774044   \n",
       "Office and Administrative Support Occupations            0.725564   \n",
       "Personal Care and Service Occupations                    0.765258   \n",
       "Production Occupations                                   0.726115   \n",
       "Protective Service Occupations                           0.500000   \n",
       "Sales and Related Occupations                            0.842767   \n",
       "Transportation and Material Moving Occupations           0.797619   \n",
       "\n",
       "                                                     average_wage  \n",
       "descrpt                                                            \n",
       "Architecture and Engineering Occupations             72403.290538  \n",
       "Arts, Design, Entertainment, Sports, and Media ...   51617.488719  \n",
       "Building and Grounds Cleaning and Maintenance O...   40234.262500  \n",
       "Business and Financial Operations Occupations        64112.306987  \n",
       "Community and Social Service Occupations             37566.160070  \n",
       "Computer and Mathematical Occupations                74707.897578  \n",
       "Construction and Extraction Occupations              49453.172093  \n",
       "Education, Training, and Library Occupations         52194.514080  \n",
       "Farming, Fishing, and Forestry Occupations           34425.876298  \n",
       "Food Preparation and Serving Related Occupations     46951.715306  \n",
       "Healthcare Practitioners and Technical Occupations  101800.912575  \n",
       "Healthcare Support Occupations                       40299.773333  \n",
       "Installation, Maintenance, and Repair Occupations    49838.313889  \n",
       "Legal Occupations                                    94972.706012  \n",
       "Life, Physical, and Social Science Occupations       54039.159584  \n",
       "Management Occupations                              124166.221344  \n",
       "Office and Administrative Support Occupations        36828.187256  \n",
       "Personal Care and Service Occupations                28656.407512  \n",
       "Production Occupations                               44909.509554  \n",
       "Protective Service Occupations                       48422.750000  \n",
       "Sales and Related Occupations                        78473.718117  \n",
       "Transportation and Material Moving Occupations       50473.465952  "
      ]
     },
     "execution_count": 43,
     "metadata": {},
     "output_type": "execute_result"
    }
   ],
   "source": [
    "industry_data.newdf"
   ]
  },
  {
   "cell_type": "code",
   "execution_count": 64,
   "metadata": {
    "collapsed": false
   },
   "outputs": [
    {
     "ename": "NameError",
     "evalue": "name 'occupation_rank' is not defined",
     "output_type": "error",
     "traceback": [
      "\u001b[0;31m---------------------------------------------------------------------------\u001b[0m",
      "\u001b[0;31mNameError\u001b[0m                                 Traceback (most recent call last)",
      "\u001b[0;32m<ipython-input-64-10fb64cc5c1b>\u001b[0m in \u001b[0;36m<module>\u001b[0;34m()\u001b[0m\n\u001b[0;32m----> 1\u001b[0;31m \u001b[0moccupation_rank\u001b[0m\u001b[0;34m(\u001b[0m\u001b[0minductry_data\u001b[0m\u001b[0;34m,\u001b[0m \u001b[0;36m10\u001b[0m\u001b[0;34m,\u001b[0m \u001b[0;34m\"application_pool\"\u001b[0m\u001b[0;34m)\u001b[0m\u001b[0;34m\u001b[0m\u001b[0m\n\u001b[0m",
      "\u001b[0;31mNameError\u001b[0m: name 'occupation_rank' is not defined"
     ]
    }
   ],
   "source": [
    "occupation_rank(inductry_data, 10, \"application_pool\")"
   ]
  },
  {
   "cell_type": "code",
   "execution_count": 44,
   "metadata": {
    "collapsed": false
   },
   "outputs": [],
   "source": [
    "industry_keyword = \"business\".capitalize()"
   ]
  },
  {
   "cell_type": "code",
   "execution_count": 45,
   "metadata": {
    "collapsed": false
   },
   "outputs": [],
   "source": [
    "user_industry_list = []\n",
    "for i in range(len(industry_list)):\n",
    "    if industry_keyword in industry_list[i]:\n",
    "        user_industry_list.append(industry_list[i])"
   ]
  },
  {
   "cell_type": "code",
   "execution_count": 46,
   "metadata": {
    "collapsed": false
   },
   "outputs": [
    {
     "data": {
      "text/plain": [
       "['Business and Financial Operations Occupations']"
      ]
     },
     "execution_count": 46,
     "metadata": {},
     "output_type": "execute_result"
    }
   ],
   "source": [
    "user_industry_list"
   ]
  },
  {
   "cell_type": "code",
   "execution_count": 47,
   "metadata": {
    "collapsed": false
   },
   "outputs": [
    {
     "data": {
      "text/plain": [
       "41400"
      ]
     },
     "execution_count": 47,
     "metadata": {},
     "output_type": "execute_result"
    }
   ],
   "source": [
    "industry_level.industry_application_pool(industry_data, 'Business and Financial Operations Occupations')"
   ]
  },
  {
   "cell_type": "code",
   "execution_count": 59,
   "metadata": {
    "collapsed": false
   },
   "outputs": [],
   "source": [
    "job_titles = merged_data[merged_data['descrpt'] == \"Business and Financial Operations Occupations\"]['SOC_NAME'].drop_duplicates()"
   ]
  },
  {
   "cell_type": "code",
   "execution_count": 62,
   "metadata": {
    "collapsed": false
   },
   "outputs": [
    {
     "data": {
      "text/plain": [
       "array(['Accountants and Auditors', 'Logisticians', 'Management Analysts',\n",
       "       'Financial Analysts', 'Business Operations Specialists, All Other*',\n",
       "       nan, 'Credit Analysts', 'Compliance Officers',\n",
       "       'Appraisers and Assessors of Real Estate',\n",
       "       'Purchasing Agents, Except Wholesale, Retail, and F',\n",
       "       'Financial Specialists, All Other', 'Budget Analysts',\n",
       "       'Cost Estimators', 'Buyers and Purchasing Agents, Farm Products',\n",
       "       'Financial Examiners', 'Insurance Underwriters', 'Loan Officers',\n",
       "       'Meeting, Convention, and Event Planners*',\n",
       "       'MARKET RESEARCH ANALYSTS AND MARKETING SPECIALISTS',\n",
       "       'MANAGEMENT ANALYSTS', 'FINANCIAL ANALYSTS',\n",
       "       'PERSONAL FINANCIAL ADVISORS', 'ACCOUNTANTS AND AUDITORS',\n",
       "       'BUSINESS OPERATIONS SPECIALISTS, ALL OTHER*', 'LOGISTICIANS',\n",
       "       'FINANCIAL EXAMINERS', 'MEETING, CONVENTION, AND EVENT PLANNERS*',\n",
       "       'BUDGET ANALYSTS',\n",
       "       'HUMAN RESOURCES, TRAINING, AND LABOR RELATIONS SPE',\n",
       "       'PURCHASING AGENTS, EXCEPT WHOLESALE, RETAIL, AND F',\n",
       "       'CREDIT ANALYSTS', 'BUYERS AND PURCHASING AGENTS, FARM PRODUCTS',\n",
       "       'FINANCIAL SPECIALISTS, ALL OTHER', 'COST ESTIMATORS',\n",
       "       'COMPLIANCE OFFICERS',\n",
       "       'WHOLESALE AND RETAIL BUYERS, EXCEPT FARM PRODUCTS',\n",
       "       'TRAINING AND DEVELOPMENT SPECIALISTS',\n",
       "       'INSURANCE APPRAISERS, AUTO DAMAGE', 'LOAN OFFICERS',\n",
       "       'COMPENSATION, BENEFITS, AND JOB ANALYSIS SPECIALIS',\n",
       "       'AGENTS AND BUSINESS MANAGERS OF ARTISTS, PERFORMER',\n",
       "       'INSURANCE UNDERWRITERS', 'APPRAISERS AND ASSESSORS OF REAL ESTATE',\n",
       "       'TAX PREPARERS', 'CREDIT COUNSELORS',\n",
       "       'CLAIMS ADJUSTERS, EXAMINERS, AND INVESTIGATORS',\n",
       "       'TAX EXAMINERS AND COLLECTORS, AND REVENUE AGENTS',\n",
       "       'Market Research Analysts and Marketing Specialists',\n",
       "       'Human Resources, Training, and Labor Relations Spe',\n",
       "       'Wholesale and Retail Buyers, Except Farm Products',\n",
       "       'Personal Financial Advisors',\n",
       "       'Training and Development Specialists',\n",
       "       'Claims Adjusters, Examiners, and Investigators',\n",
       "       'Agents and Business Managers of Artists, Performer',\n",
       "       'Compensation, Benefits, and Job Analysis Specialis',\n",
       "       'Credit Counselors', 'Tax Preparers',\n",
       "       'Tax Examiners and Collectors, and Revenue Agents'], dtype=object)"
      ]
     },
     "execution_count": 62,
     "metadata": {},
     "output_type": "execute_result"
    }
   ],
   "source": [
    "job_titles.values"
   ]
  },
  {
   "cell_type": "code",
   "execution_count": null,
   "metadata": {
    "collapsed": true
   },
   "outputs": [],
   "source": []
  }
 ],
 "metadata": {
  "kernelspec": {
   "display_name": "Python [conda env:py35]",
   "language": "python",
   "name": "conda-env-py35-py"
  },
  "language_info": {
   "codemirror_mode": {
    "name": "ipython",
    "version": 3
   },
   "file_extension": ".py",
   "mimetype": "text/x-python",
   "name": "python",
   "nbconvert_exporter": "python",
   "pygments_lexer": "ipython3",
   "version": "3.5.2"
  }
 },
 "nbformat": 4,
 "nbformat_minor": 1
}
