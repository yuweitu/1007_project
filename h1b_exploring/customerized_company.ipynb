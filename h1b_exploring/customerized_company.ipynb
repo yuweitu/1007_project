{
 "cells": [
  {
   "cell_type": "code",
   "execution_count": 1,
   "metadata": {
    "collapsed": true
   },
   "outputs": [],
   "source": [
    "import pandas as pd\n",
    "import matplotlib.pyplot as plt"
   ]
  },
  {
   "cell_type": "code",
   "execution_count": 2,
   "metadata": {
    "collapsed": true
   },
   "outputs": [],
   "source": [
    "data = {}\n",
    "for year in range(2010,2017):\n",
    "    data[year]= pd.read_csv('DataBase/H-1B_FY'+str(year)+'_clean.csv',encoding = 'iso-8859-1')"
   ]
  },
  {
   "cell_type": "code",
   "execution_count": 3,
   "metadata": {
    "collapsed": true
   },
   "outputs": [],
   "source": [
    "merged_data = pd.concat([data[year] for year in range(2010,2017)], ignore_index= True)"
   ]
  },
  {
   "cell_type": "code",
   "execution_count": 4,
   "metadata": {
    "collapsed": true
   },
   "outputs": [],
   "source": [
    "class company_level:\n",
    "    \n",
    "    def __init__(self, dataset):\n",
    "        self.dataset = dataset\n",
    "        self.newdf = company_level.company(self, dataset)\n",
    "\n",
    "    def company(self, dataset):\n",
    "    # calculate required statistics\n",
    "        application_pool = (dataset.groupby(\"EMPLOYER_NAME\").count())[\"STATUS_APPROVE\"]\n",
    "        approved_case = (dataset.groupby(\"EMPLOYER_NAME\").sum())[\"STATUS_APPROVE\"]\n",
    "        approval_rate = (dataset.groupby(\"EMPLOYER_NAME\").mean())[\"STATUS_APPROVE\"]\n",
    "        average_wage = (dataset.groupby(\"EMPLOYER_NAME\").mean())[\"PREVAILING_WAGE\"]\n",
    "    \n",
    "    # create a new DataFrame and rename indexes\n",
    "        company_data = pd.concat([application_pool, approved_case, approval_rate,average_wage], axis =1)\n",
    "        company_data.columns.values[0] = \"application_pool\"\n",
    "        company_data.columns.values[1] = \"approved_case\"\n",
    "        company_data.columns.values[2] = \"approval_rate\"\n",
    "        company_data.columns.values[3] = \"average_wage\"\n",
    "    \n",
    "        return company_data"
   ]
  },
  {
   "cell_type": "code",
   "execution_count": 5,
   "metadata": {
    "collapsed": true
   },
   "outputs": [],
   "source": [
    "company_data = company_level(merged_data)"
   ]
  },
  {
   "cell_type": "code",
   "execution_count": 6,
   "metadata": {
    "collapsed": true
   },
   "outputs": [],
   "source": [
    "company_name_list = company_data.newdf.index"
   ]
  },
  {
   "cell_type": "code",
   "execution_count": 38,
   "metadata": {
    "collapsed": true
   },
   "outputs": [],
   "source": [
    "def identify_company_name(user_company):\n",
    "    # generate a list contains all matching company names\n",
    "    user_company_list = []\n",
    "    for i in range(len(company_name_list)):\n",
    "        if user_company in company_name_list[i]:\n",
    "            user_company_list.append(company_name_list[i])\n",
    "    if len(user_company_list)<=10 and len(user_company_list) >0:\n",
    "        print(\"is it company(are there companies) you interested?\\n\")\n",
    "        for user_company in user_company_list:\n",
    "            print(user_company)\n",
    "    elif len(user_company_list)>10:\n",
    "        print(\"can't accurately locate your interested company, please try to enter the full name\")\n",
    "    elif len(user_company_list) == 0:\n",
    "        print(\"can't find your interested company, please re-enter a name\")\n",
    "    return user_company_list"
   ]
  },
  {
   "cell_type": "code",
   "execution_count": 39,
   "metadata": {
    "collapsed": false
   },
   "outputs": [
    {
     "name": "stdout",
     "output_type": "stream",
     "text": [
      "is it company(are there companies) you interested?\n",
      "\n",
      "FACEBOOK INC.\n",
      "FACEBOOK MIAMI, INC.\n",
      "FACEBOOK PAYMENTS, INC.\n",
      "FACEBOOK SERVICES, INC.\n",
      "FACEBOOK, INC.\n",
      "FACEBOOKSTER, INC.\n"
     ]
    }
   ],
   "source": [
    "user_company_list = identify_company_name(\"FACEBOOK\")"
   ]
  },
  {
   "cell_type": "code",
   "execution_count": 40,
   "metadata": {
    "collapsed": false
   },
   "outputs": [
    {
     "name": "stdout",
     "output_type": "stream",
     "text": [
      "                         application_pool  approved_case  approval_rate   average_wage\n",
      "EMPLOYER_NAME                                                                         \n",
      "FACEBOOK INC.                           3              2       0.666667  107515.000000\n",
      "FACEBOOK MIAMI, INC.                    1              1       1.000000  141274.000000\n",
      "FACEBOOK PAYMENTS, INC.                 1              1       1.000000   70491.000000\n",
      "FACEBOOK SERVICES, INC.                86             72       0.837209   98071.848837\n",
      "FACEBOOK, INC.                       4065           3560       0.875769  115363.482411\n",
      "FACEBOOKSTER, INC.                      1              1       1.000000   55000.000000\n",
      "The total number of application pool is 4157\n",
      "The total number of approved case is 3637\n",
      "The approval rate is 0.8749097907144575\n",
      "The average wage for this company is 97952.55520800558\n"
     ]
    }
   ],
   "source": [
    "df = company_data.newdf.ix[user_company_list]\n",
    "print(df.to_string())\n",
    "print(\"The total number of application pool is\", df[\"application_pool\"].sum())\n",
    "print(\"The total number of approved case is\", df[\"approved_case\"].sum())\n",
    "print(\"The approval rate is\", df[\"approved_case\"].sum()/df[\"application_pool\"].sum())\n",
    "print(\"The average wage for this company is\",df[\"average_wage\"].sum()/len(df))"
   ]
  },
  {
   "cell_type": "code",
   "execution_count": null,
   "metadata": {
    "collapsed": true
   },
   "outputs": [],
   "source": []
  }
 ],
 "metadata": {
  "anaconda-cloud": {},
  "kernelspec": {
   "display_name": "Python [conda env:py35]",
   "language": "python",
   "name": "conda-env-py35-py"
  },
  "language_info": {
   "codemirror_mode": {
    "name": "ipython",
    "version": 3
   },
   "file_extension": ".py",
   "mimetype": "text/x-python",
   "name": "python",
   "nbconvert_exporter": "python",
   "pygments_lexer": "ipython3",
   "version": "3.5.2"
  }
 },
 "nbformat": 4,
 "nbformat_minor": 1
}
